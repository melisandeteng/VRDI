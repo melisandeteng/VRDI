{
 "cells": [
  {
   "cell_type": "markdown",
   "metadata": {},
   "source": [
    " In this notebook, we export to .shp files the duplicated precincts in the LA times precincts data to view them in QGIS. \n",
    " 2 \"versions\" are exported:\n",
    " - the simple \"subshapefile\" of the duplicates\n",
    " - a shapefile with only one entry per precinct, with area computed as the sum of all areas (note that this might be an approximation rather than the exact area as we did not handle overlaps), and geometry as the multipolygon composed of all polygons associated to a precinct."
   ]
  },
  {
   "cell_type": "code",
   "execution_count": 1,
   "metadata": {},
   "outputs": [],
   "source": [
    "import os\n",
    "import numpy as np\n",
    "import pandas as pd\n",
    "import geopandas as gpd\n"
   ]
  },
  {
   "cell_type": "code",
   "execution_count": 2,
   "metadata": {},
   "outputs": [],
   "source": [
    "precincts = gpd.read_file('./Data/LAtimes2016_merged/merged_CA2016.shp')"
   ]
  },
  {
   "cell_type": "code",
   "execution_count": 3,
   "metadata": {},
   "outputs": [],
   "source": [
    "dups = precincts[precincts.duplicated('pct16', keep =False)== True]"
   ]
  },
  {
   "cell_type": "code",
   "execution_count": 27,
   "metadata": {},
   "outputs": [],
   "source": [
    "#save duplicates shapefile - for QGIS use\n",
    "dups.to_file(\"LA_times_duplicates.shp\")"
   ]
  },
  {
   "cell_type": "markdown",
   "metadata": {},
   "source": [
    "Now we will group all the duplicates in one line for each precinct. \n",
    "Changes to make to obtain this file:\n",
    "- turn the polygon pieces into a single multipolygon object for each county ID. \n",
    "- compute the area, being careful about overlaps of precinct pieces (for now, we only care about geometry, and can actually obtain area from the geometry, so the simple approximation of summing all areas of the pieces corresponding to one precinct will be used in the first place)\n"
   ]
  },
  {
   "cell_type": "code",
   "execution_count": 12,
   "metadata": {},
   "outputs": [],
   "source": [
    "areas = dups.groupby('pct16').agg({'area':'sum'})"
   ]
  },
  {
   "cell_type": "code",
   "execution_count": 13,
   "metadata": {},
   "outputs": [],
   "source": [
    "duplicates = dups[['pct16']].drop_duplicates('pct16', keep = 'first')"
   ]
  },
  {
   "cell_type": "code",
   "execution_count": 29,
   "metadata": {},
   "outputs": [
    {
     "data": {
      "text/plain": [
       "(691, 690)"
      ]
     },
     "execution_count": 29,
     "metadata": {},
     "output_type": "execute_result"
    }
   ],
   "source": [
    "len(duplicates), len(areas)\n",
    "#difference is due to 'None' precinct... "
   ]
  },
  {
   "cell_type": "code",
   "execution_count": 18,
   "metadata": {},
   "outputs": [],
   "source": [
    "duplicates = duplicates.join(areas, on = 'pct16')"
   ]
  },
  {
   "cell_type": "code",
   "execution_count": 30,
   "metadata": {},
   "outputs": [],
   "source": [
    "from shapely.ops import cascaded_union"
   ]
  },
  {
   "cell_type": "code",
   "execution_count": 31,
   "metadata": {},
   "outputs": [],
   "source": [
    "duplicates['geometry'] = 0"
   ]
  },
  {
   "cell_type": "code",
   "execution_count": 46,
   "metadata": {},
   "outputs": [],
   "source": [
    "\n",
    "df = dups[dups['pct16'] == '071-RAN1050']\n",
    "geoms = df['geometry'].to_list()\n",
    "geom = gpd.GeoSeries(cascaded_union(geoms))"
   ]
  },
  {
   "cell_type": "code",
   "execution_count": 48,
   "metadata": {},
   "outputs": [
    {
     "data": {
      "image/svg+xml": [
       "<svg xmlns=\"http://www.w3.org/2000/svg\" xmlns:xlink=\"http://www.w3.org/1999/xlink\" width=\"100.0\" height=\"100.0\" viewBox=\"-117.52462669404075 34.127146539683416 0.02988318309684246 0.010364905521342394\" preserveAspectRatio=\"xMinYMin meet\"><g transform=\"matrix(1,0,0,-1,0,68.26465798488817)\"><path fill-rule=\"evenodd\" fill=\"#66cc99\" stroke=\"#555555\" stroke-width=\"0.0005976636619368492\" opacity=\"0.6\" d=\"M -117.50350525880101,34.13004879787499 L -117.50566869362515,34.12825332424256 L -117.5235199094816,34.12832570068058 L -117.5234706944132,34.13579944967652 L -117.52346724388715,34.13640466064562 L -117.5168880677665,34.136339044503906 L -117.51677075864453,34.13633788863776 L -117.51446903024029,34.13634515281604 L -117.50940456441421,34.13636111444414 L -117.50593461971232,34.136371712974075 L -117.49585029550305,34.13640220804602 L -117.49587022439401,34.13638546028631 L -117.50348533295062,34.13006554689091 L -117.50350525880101,34.13004879787499 z\" /></g></svg>"
      ],
      "text/plain": [
       "<shapely.geometry.polygon.Polygon at 0x158d7563390>"
      ]
     },
     "execution_count": 48,
     "metadata": {},
     "output_type": "execute_result"
    }
   ],
   "source": [
    "geom[0]"
   ]
  },
  {
   "cell_type": "code",
   "execution_count": 56,
   "metadata": {},
   "outputs": [
    {
     "name": "stderr",
     "output_type": "stream",
     "text": [
      "C:\\Users\\Mélisande\\Anaconda3\\envs\\VRDI\\lib\\site-packages\\ipykernel_launcher.py:9: SettingWithCopyWarning: \n",
      "A value is trying to be set on a copy of a slice from a DataFrame\n",
      "\n",
      "See the caveats in the documentation: http://pandas.pydata.org/pandas-docs/stable/indexing.html#indexing-view-versus-copy\n",
      "  if __name__ == '__main__':\n"
     ]
    },
    {
     "name": "stdout",
     "output_type": "stream",
     "text": [
      "you should check precinct\n",
      "085-0\n"
     ]
    }
   ],
   "source": [
    "for index, row in duplicates.iterrows():\n",
    "    \n",
    "    precinct = row['pct16']\n",
    "    if not precinct is None :\n",
    "        try : \n",
    "            df = dups[dups['pct16'] == precinct]\n",
    "            geoms = df['geometry'].to_list()\n",
    "            geom = gpd.GeoSeries(cascaded_union(geoms))\n",
    "            duplicates['geometry'][index] = geom[0]\n",
    "        except:\n",
    "            print('you should check precinct')\n",
    "            print(precinct)\n",
    "    "
   ]
  },
  {
   "cell_type": "code",
   "execution_count": 57,
   "metadata": {},
   "outputs": [
    {
     "data": {
      "text/html": [
       "<div>\n",
       "<style scoped>\n",
       "    .dataframe tbody tr th:only-of-type {\n",
       "        vertical-align: middle;\n",
       "    }\n",
       "\n",
       "    .dataframe tbody tr th {\n",
       "        vertical-align: top;\n",
       "    }\n",
       "\n",
       "    .dataframe thead th {\n",
       "        text-align: right;\n",
       "    }\n",
       "</style>\n",
       "<table border=\"1\" class=\"dataframe\">\n",
       "  <thead>\n",
       "    <tr style=\"text-align: right;\">\n",
       "      <th></th>\n",
       "      <th>area</th>\n",
       "      <th>pct16</th>\n",
       "      <th>geometry</th>\n",
       "    </tr>\n",
       "  </thead>\n",
       "  <tbody>\n",
       "    <tr>\n",
       "      <th>22541</th>\n",
       "      <td>NaN</td>\n",
       "      <td>085-0</td>\n",
       "      <td>None</td>\n",
       "    </tr>\n",
       "    <tr>\n",
       "      <th>22659</th>\n",
       "      <td>NaN</td>\n",
       "      <td>085-0</td>\n",
       "      <td>None</td>\n",
       "    </tr>\n",
       "    <tr>\n",
       "      <th>22660</th>\n",
       "      <td>NaN</td>\n",
       "      <td>085-0</td>\n",
       "      <td>None</td>\n",
       "    </tr>\n",
       "    <tr>\n",
       "      <th>22675</th>\n",
       "      <td>NaN</td>\n",
       "      <td>085-0</td>\n",
       "      <td>None</td>\n",
       "    </tr>\n",
       "    <tr>\n",
       "      <th>22684</th>\n",
       "      <td>NaN</td>\n",
       "      <td>085-0</td>\n",
       "      <td>None</td>\n",
       "    </tr>\n",
       "  </tbody>\n",
       "</table>\n",
       "</div>"
      ],
      "text/plain": [
       "       area  pct16 geometry\n",
       "22541   NaN  085-0     None\n",
       "22659   NaN  085-0     None\n",
       "22660   NaN  085-0     None\n",
       "22675   NaN  085-0     None\n",
       "22684   NaN  085-0     None"
      ]
     },
     "execution_count": 57,
     "metadata": {},
     "output_type": "execute_result"
    }
   ],
   "source": [
    "dups[dups.pct16 == '085-0']"
   ]
  },
  {
   "cell_type": "code",
   "execution_count": 65,
   "metadata": {},
   "outputs": [
    {
     "name": "stderr",
     "output_type": "stream",
     "text": [
      "C:\\Users\\Mélisande\\Anaconda3\\envs\\VRDI\\lib\\site-packages\\ipykernel_launcher.py:1: SettingWithCopyWarning: \n",
      "A value is trying to be set on a copy of a slice from a DataFrame\n",
      "\n",
      "See the caveats in the documentation: http://pandas.pydata.org/pandas-docs/stable/indexing.html#indexing-view-versus-copy\n",
      "  \"\"\"Entry point for launching an IPython kernel.\n",
      "C:\\Users\\Mélisande\\Anaconda3\\envs\\VRDI\\lib\\site-packages\\ipykernel_launcher.py:2: SettingWithCopyWarning: \n",
      "A value is trying to be set on a copy of a slice from a DataFrame\n",
      "\n",
      "See the caveats in the documentation: http://pandas.pydata.org/pandas-docs/stable/indexing.html#indexing-view-versus-copy\n",
      "  \n"
     ]
    }
   ],
   "source": [
    "duplicates['area'][1309] = dups['area'][1309]\n",
    "duplicates['geometry'][1309] = dups['geometry'][1309]"
   ]
  },
  {
   "cell_type": "code",
   "execution_count": 68,
   "metadata": {},
   "outputs": [
    {
     "name": "stderr",
     "output_type": "stream",
     "text": [
      "C:\\Users\\Mélisande\\Anaconda3\\envs\\VRDI\\lib\\site-packages\\ipykernel_launcher.py:1: SettingWithCopyWarning: \n",
      "A value is trying to be set on a copy of a slice from a DataFrame.\n",
      "Try using .loc[row_indexer,col_indexer] = value instead\n",
      "\n",
      "See the caveats in the documentation: http://pandas.pydata.org/pandas-docs/stable/indexing.html#indexing-view-versus-copy\n",
      "  \"\"\"Entry point for launching an IPython kernel.\n"
     ]
    }
   ],
   "source": [
    "duplicates[duplicates.pct16 == '085-0']['geometry'] = np.nan"
   ]
  },
  {
   "cell_type": "code",
   "execution_count": 73,
   "metadata": {},
   "outputs": [],
   "source": [
    "\n",
    "duplicates = gpd.GeoDataFrame(duplicates, geometry='geometry')\n",
    "duplicates.to_file(\"LA_times_duplicates_agg.shp\")"
   ]
  },
  {
   "cell_type": "code",
   "execution_count": null,
   "metadata": {},
   "outputs": [],
   "source": []
  }
 ],
 "metadata": {
  "kernelspec": {
   "display_name": "Python 3",
   "language": "python",
   "name": "python3"
  },
  "language_info": {
   "codemirror_mode": {
    "name": "ipython",
    "version": 3
   },
   "file_extension": ".py",
   "mimetype": "text/x-python",
   "name": "python",
   "nbconvert_exporter": "python",
   "pygments_lexer": "ipython3",
   "version": "3.7.3"
  }
 },
 "nbformat": 4,
 "nbformat_minor": 2
}
