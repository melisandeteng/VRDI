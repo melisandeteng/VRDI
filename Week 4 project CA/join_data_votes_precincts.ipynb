{
 "cells": [
  {
   "cell_type": "code",
   "execution_count": 1,
   "metadata": {},
   "outputs": [],
   "source": [
    "import os\n",
    "import numpy as np\n",
    "import pandas as pd\n",
    "import geopandas as gpd\n",
    "import matplotlib.pyplot as plt\n"
   ]
  },
  {
   "cell_type": "code",
   "execution_count": 2,
   "metadata": {},
   "outputs": [
    {
     "name": "stderr",
     "output_type": "stream",
     "text": [
      "C:\\Users\\Mélisande\\Anaconda3\\envs\\VRDI\\lib\\site-packages\\IPython\\core\\interactiveshell.py:3049: DtypeWarning: Columns (0) have mixed types. Specify dtype option on import or set low_memory=False.\n",
      "  interactivity=interactivity, compiler=compiler, result=result)\n"
     ]
    }
   ],
   "source": [
    "votes_res = pd.read_csv('./Data/LAtimes2016_merged/all_precinct_results.csv')\n",
    "precincts = gpd.read_file('./Data/LAtimes2016_merged/merged_CA2016.shp')"
   ]
  },
  {
   "cell_type": "code",
   "execution_count": 3,
   "metadata": {},
   "outputs": [],
   "source": [
    "dups_agg = gpd.read_file('./LA_times_duplicates_agg/LA_times_duplicates_agg.shp')"
   ]
  },
  {
   "cell_type": "code",
   "execution_count": 4,
   "metadata": {},
   "outputs": [],
   "source": [
    "precincts = precincts.drop_duplicates('pct16', keep= 'first')\n",
    "\n",
    "precincts = precincts.merge(dups_agg, how = \"left\", on = 'pct16')\n",
    "\n",
    "precincts.loc[~pd.isnull(precincts['geometry_y']),'geometry_x'] = precincts[~pd.isnull(precincts['geometry_y'])]['geometry_y']\n",
    "\n",
    "precincts.loc[~pd.isnull(precincts['geometry_y']),'area_x'] = precincts[~pd.isnull(precincts['geometry_y'])]['area_y']"
   ]
  },
  {
   "cell_type": "code",
   "execution_count": 23,
   "metadata": {},
   "outputs": [],
   "source": [
    "precincts = precincts[['pct16', 'area_x', 'geometry_x']].rename(index=str, columns={\"area_x\": \"area\", \"geometry_x\": \"geometry\"})"
   ]
  },
  {
   "cell_type": "code",
   "execution_count": 29,
   "metadata": {},
   "outputs": [
    {
     "data": {
      "text/html": [
       "<div>\n",
       "<style scoped>\n",
       "    .dataframe tbody tr th:only-of-type {\n",
       "        vertical-align: middle;\n",
       "    }\n",
       "\n",
       "    .dataframe tbody tr th {\n",
       "        vertical-align: top;\n",
       "    }\n",
       "\n",
       "    .dataframe thead th {\n",
       "        text-align: right;\n",
       "    }\n",
       "</style>\n",
       "<table border=\"1\" class=\"dataframe\">\n",
       "  <thead>\n",
       "    <tr style=\"text-align: right;\">\n",
       "      <th></th>\n",
       "      <th>pct16</th>\n",
       "      <th>area</th>\n",
       "      <th>geometry</th>\n",
       "    </tr>\n",
       "  </thead>\n",
       "  <tbody>\n",
       "    <tr>\n",
       "      <th>0</th>\n",
       "      <td>001-356210</td>\n",
       "      <td>381364.92651</td>\n",
       "      <td>POLYGON ((-122.2083568418432 37.78114835587201...</td>\n",
       "    </tr>\n",
       "    <tr>\n",
       "      <th>1</th>\n",
       "      <td>001-201700</td>\n",
       "      <td>168756.59668</td>\n",
       "      <td>POLYGON ((-122.2550451571131 37.87982148656841...</td>\n",
       "    </tr>\n",
       "    <tr>\n",
       "      <th>2</th>\n",
       "      <td>001-415000</td>\n",
       "      <td>505296.91724</td>\n",
       "      <td>POLYGON ((-122.1776926685124 37.75408432213523...</td>\n",
       "    </tr>\n",
       "  </tbody>\n",
       "</table>\n",
       "</div>"
      ],
      "text/plain": [
       "        pct16          area                                           geometry\n",
       "0  001-356210  381364.92651  POLYGON ((-122.2083568418432 37.78114835587201...\n",
       "1  001-201700  168756.59668  POLYGON ((-122.2550451571131 37.87982148656841...\n",
       "2  001-415000  505296.91724  POLYGON ((-122.1776926685124 37.75408432213523..."
      ]
     },
     "execution_count": 29,
     "metadata": {},
     "output_type": "execute_result"
    }
   ],
   "source": [
    "precincts.head(3)"
   ]
  },
  {
   "cell_type": "code",
   "execution_count": 30,
   "metadata": {},
   "outputs": [
    {
     "data": {
      "text/plain": [
       "24555"
      ]
     },
     "execution_count": 30,
     "metadata": {},
     "output_type": "execute_result"
    }
   ],
   "source": [
    "len(precincts)"
   ]
  },
  {
   "cell_type": "code",
   "execution_count": 31,
   "metadata": {},
   "outputs": [
    {
     "data": {
      "text/plain": [
       "24626"
      ]
     },
     "execution_count": 31,
     "metadata": {},
     "output_type": "execute_result"
    }
   ],
   "source": [
    "len(votes_res)"
   ]
  },
  {
   "cell_type": "code",
   "execution_count": 32,
   "metadata": {},
   "outputs": [],
   "source": [
    "# join the votes data\n",
    "merged = precincts.merge(votes_res, how = 'inner', on = 'pct16')"
   ]
  },
  {
   "cell_type": "code",
   "execution_count": 35,
   "metadata": {},
   "outputs": [],
   "source": [
    "merged = gpd.GeoDataFrame(merged, geometry='geometry')"
   ]
  },
  {
   "cell_type": "code",
   "execution_count": 36,
   "metadata": {},
   "outputs": [],
   "source": [
    "merged.to_file(\"LA_times_votes_precincts.shp\")"
   ]
  },
  {
   "cell_type": "code",
   "execution_count": null,
   "metadata": {},
   "outputs": [],
   "source": []
  }
 ],
 "metadata": {
  "kernelspec": {
   "display_name": "Python 3",
   "language": "python",
   "name": "python3"
  },
  "language_info": {
   "codemirror_mode": {
    "name": "ipython",
    "version": 3
   },
   "file_extension": ".py",
   "mimetype": "text/x-python",
   "name": "python",
   "nbconvert_exporter": "python",
   "pygments_lexer": "ipython3",
   "version": "3.7.3"
  }
 },
 "nbformat": 4,
 "nbformat_minor": 2
}
